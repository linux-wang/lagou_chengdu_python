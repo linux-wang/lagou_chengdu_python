{
 "cells": [
  {
   "cell_type": "code",
   "execution_count": 1,
   "metadata": {},
   "outputs": [
    {
     "ename": "ModuleNotFoundError",
     "evalue": "No module named 'settings'",
     "output_type": "error",
     "traceback": [
      "\u001b[0;31m---------------------------------------------------------------------------\u001b[0m",
      "\u001b[0;31mModuleNotFoundError\u001b[0m                       Traceback (most recent call last)",
      "\u001b[0;32m<ipython-input-1-a63326c57053>\u001b[0m in \u001b[0;36m<module>\u001b[0;34m()\u001b[0m\n\u001b[1;32m      2\u001b[0m \u001b[0;32mimport\u001b[0m \u001b[0mpymysql\u001b[0m\u001b[0;34m\u001b[0m\u001b[0m\n\u001b[1;32m      3\u001b[0m \u001b[0;34m\u001b[0m\u001b[0m\n\u001b[0;32m----> 4\u001b[0;31m \u001b[0;32mfrom\u001b[0m \u001b[0msettings\u001b[0m \u001b[0;32mimport\u001b[0m \u001b[0;34m*\u001b[0m\u001b[0;34m\u001b[0m\u001b[0m\n\u001b[0m\u001b[1;32m      5\u001b[0m \u001b[0;34m\u001b[0m\u001b[0m\n\u001b[1;32m      6\u001b[0m \u001b[0mprint\u001b[0m\u001b[0;34m(\u001b[0m\u001b[0mdb_name\u001b[0m\u001b[0;34m)\u001b[0m\u001b[0;34m\u001b[0m\u001b[0m\n",
      "\u001b[0;31mModuleNotFoundError\u001b[0m: No module named 'settings'"
     ]
    }
   ],
   "source": [
    "import pandas as pd\n",
    "import pymysql\n",
    "\n",
    "from settings import *\n",
    "\n",
    "print(db_name)\n",
    "\n"
   ]
  },
  {
   "cell_type": "code",
   "execution_count": 2,
   "metadata": {},
   "outputs": [
    {
     "name": "stdout",
     "output_type": "stream",
     "text": [
      "lagou\n"
     ]
    }
   ],
   "source": [
    "import pandas as pd\n",
    "import pymysql\n",
    "\n",
    "from settings import *\n",
    "\n",
    "print(db_name)"
   ]
  },
  {
   "cell_type": "code",
   "execution_count": 4,
   "metadata": {},
   "outputs": [
    {
     "name": "stdout",
     "output_type": "stream",
     "text": [
      "    job_id  company_id  company_name             position    salary  \\\n",
      "0   175644       28722      我趣科技研发招聘            高级后台开发工程师  13k-20k    \n",
      "1   205658       32424     图丰信息-成都招聘  Web前端开发(Javascript)  10k-18k    \n",
      "2   254411        5436      公平价研发部招聘               Python   7k-14k    \n",
      "3   748187       74507  成都钱方成都研发中心招聘          Python开发工程师  10k-18k    \n",
      "4  1548255       55562     西游网游戏运维招聘     运维&python开发工程...   8k-15k    \n",
      "\n",
      "           position_label job_request city work_experience education  \\\n",
      "0  即时通讯,MySQL,后端,后台,redis        None  成都          经验3-5年     本科及以上    \n",
      "1         前端,web,web前端,js        None  成都         经验5-10年     本科及以上    \n",
      "2                  python        None  成都            经验不限     本科及以上    \n",
      "3                  python        None  成都          经验3-5年     大专及以上    \n",
      "4                   游戏,运维        None  成都          经验1-3年     本科及以上    \n",
      "\n",
      "  full_or_part              job_advantage  \\\n",
      "0           全职            \\n\\n掌游宝“职”等你来\\n   \n",
      "1           全职           \\n\\n待遇丰厚，潜力巨大。\\n   \n",
      "2           全职  \\n\\n晨兴A轮投资 2013年创业邦100强\\n   \n",
      "3           全职  \\n\\n绩效奖金 六险一金 午餐补助 带薪年假\\n   \n",
      "4           全职   \\n\\n月流水过亿产品，近2千台机器运维环境\\n   \n",
      "\n",
      "                                     job_description  \\\n",
      "0  \\n职位描述：\\n\\n工作职责：\\n1. 后台系统架构，数据库设计，服务器逻辑开发；2. 网...   \n",
      "1  \\n职位描述：\\n\\n此岗位面向全国，要求应征者是中高级技术水平，除可以在成都office办...   \n",
      "2  \\n职位描述：\\n\\n职位描述：1、参与需求分析，产品设计，功能开发；2、负责系统平台的日常...   \n",
      "3  \\n职位描述：\\n\\n岗位职责：\\n1. 负责手机应用API等产品及业务的功能模块设计与实现...   \n",
      "4  \\n职位描述：\\n\\n岗位职责：\\n1、按运维部门的整体需求的规划，参与运维自动化平台的建设...   \n",
      "\n",
      "                          work_add  \\\n",
      "0         成都-高新区-中和-天府三街腾讯大厦B座1403   \n",
      "1          成都-金牛区-沙湾-一环路北一段99号环球广场   \n",
      "2  成都-武侯区-华阳-天府大道中段1388号美年广场D座391号   \n",
      "3      成都-双流县-华阳-天府大道南段2039号天府菁蓉大厦   \n",
      "4            成都-高新区-天府软件园C区10栋3-4楼   \n",
      "\n",
      "                                       review_anchor       day  \n",
      "0  https://www.lagou.com/gongsi/interviewExperien...  20180807  \n",
      "1  https://www.lagou.com/gongsi/interviewExperien...  20180807  \n",
      "2  https://www.lagou.com/gongsi/interviewExperien...  20180807  \n",
      "3  https://www.lagou.com/gongsi/interviewExperien...  20180807  \n",
      "4  https://www.lagou.com/gongsi/interviewExperien...  20180807  \n"
     ]
    }
   ],
   "source": [
    "import pandas as pd\n",
    "import pymysql\n",
    "\n",
    "from settings import *\n",
    "\n",
    "conn = pymysql.connect(host=db_host,\n",
    "                       user=db_user,\n",
    "                       password=db_passwd,\n",
    "                       db=db_name,\n",
    "                       port=int(db_port)\n",
    "                      )\n",
    "\n",
    "sql = 'select * from job_info'\n",
    "df = pd.read_sql(sql, con=conn)\n",
    "print(df.head())"
   ]
  },
  {
   "cell_type": "code",
   "execution_count": 5,
   "metadata": {},
   "outputs": [
    {
     "ename": "TypeError",
     "evalue": "'Index' object is not callable",
     "output_type": "error",
     "traceback": [
      "\u001b[0;31m---------------------------------------------------------------------------\u001b[0m",
      "\u001b[0;31mTypeError\u001b[0m                                 Traceback (most recent call last)",
      "\u001b[0;32m<ipython-input-5-ea942bf769f0>\u001b[0m in \u001b[0;36m<module>\u001b[0;34m()\u001b[0m\n\u001b[0;32m----> 1\u001b[0;31m \u001b[0mdf\u001b[0m\u001b[0;34m.\u001b[0m\u001b[0mcolumns\u001b[0m\u001b[0;34m(\u001b[0m\u001b[0;34m)\u001b[0m\u001b[0;34m\u001b[0m\u001b[0m\n\u001b[0m",
      "\u001b[0;31mTypeError\u001b[0m: 'Index' object is not callable"
     ]
    }
   ],
   "source": [
    "df.columns()"
   ]
  },
  {
   "cell_type": "code",
   "execution_count": 6,
   "metadata": {},
   "outputs": [
    {
     "ename": "TypeError",
     "evalue": "'Series' object is not callable",
     "output_type": "error",
     "traceback": [
      "\u001b[0;31m---------------------------------------------------------------------------\u001b[0m",
      "\u001b[0;31mTypeError\u001b[0m                                 Traceback (most recent call last)",
      "\u001b[0;32m<ipython-input-6-b05ad7780358>\u001b[0m in \u001b[0;36m<module>\u001b[0;34m()\u001b[0m\n\u001b[0;32m----> 1\u001b[0;31m \u001b[0mdf\u001b[0m\u001b[0;34m.\u001b[0m\u001b[0mcity\u001b[0m\u001b[0;34m(\u001b[0m\u001b[0;34m)\u001b[0m\u001b[0;34m\u001b[0m\u001b[0m\n\u001b[0m",
      "\u001b[0;31mTypeError\u001b[0m: 'Series' object is not callable"
     ]
    }
   ],
   "source": [
    "df.city()"
   ]
  },
  {
   "cell_type": "code",
   "execution_count": 7,
   "metadata": {},
   "outputs": [
    {
     "data": {
      "text/plain": [
       "0      成都 \n",
       "1      成都 \n",
       "2      成都 \n",
       "3      成都 \n",
       "4      成都 \n",
       "5      成都 \n",
       "6      成都 \n",
       "7      成都 \n",
       "8      成都 \n",
       "9      成都 \n",
       "10     成都 \n",
       "11     成都 \n",
       "12     成都 \n",
       "13     成都 \n",
       "14     成都 \n",
       "15     成都 \n",
       "16     成都 \n",
       "17     成都 \n",
       "18     成都 \n",
       "19     成都 \n",
       "20     成都 \n",
       "21     成都 \n",
       "22     成都 \n",
       "23     成都 \n",
       "24     成都 \n",
       "25     成都 \n",
       "26     成都 \n",
       "27     成都 \n",
       "28     成都 \n",
       "29     成都 \n",
       "      ... \n",
       "322    成都 \n",
       "323    成都 \n",
       "324    成都 \n",
       "325    成都 \n",
       "326    成都 \n",
       "327    成都 \n",
       "328    成都 \n",
       "329    成都 \n",
       "330    成都 \n",
       "331    成都 \n",
       "332    成都 \n",
       "333    成都 \n",
       "334    成都 \n",
       "335    成都 \n",
       "336    成都 \n",
       "337    成都 \n",
       "338    成都 \n",
       "339    成都 \n",
       "340    成都 \n",
       "341    成都 \n",
       "342    成都 \n",
       "343    成都 \n",
       "344    成都 \n",
       "345    成都 \n",
       "346    成都 \n",
       "347    成都 \n",
       "348    成都 \n",
       "349    成都 \n",
       "350    成都 \n",
       "351    成都 \n",
       "Name: city, Length: 352, dtype: object"
      ]
     },
     "execution_count": 7,
     "metadata": {},
     "output_type": "execute_result"
    }
   ],
   "source": [
    "df.city"
   ]
  },
  {
   "cell_type": "code",
   "execution_count": 8,
   "metadata": {},
   "outputs": [
    {
     "data": {
      "text/plain": [
       "0      13k-20k \n",
       "1      10k-18k \n",
       "2       7k-14k \n",
       "3      10k-18k \n",
       "4       8k-15k \n",
       "5      10k-15k \n",
       "6      10k-20k \n",
       "7       7k-14k \n",
       "8      11k-22k \n",
       "9      15k-25k \n",
       "10     12k-20k \n",
       "11      8k-14k \n",
       "12     10k-20k \n",
       "13     10k-20k \n",
       "14      6k-10k \n",
       "15     12k-18k \n",
       "16      8k-15k \n",
       "17     10k-15k \n",
       "18       5k-8k \n",
       "19     12k-18k \n",
       "20     10k-17k \n",
       "21      9k-12k \n",
       "22     10k-20k \n",
       "23     15k-25k \n",
       "24     10k-20k \n",
       "25     10k-20k \n",
       "26     12k-24k \n",
       "27     15k-30k \n",
       "28     15k-30k \n",
       "29     12k-24k \n",
       "         ...   \n",
       "322    10k-15k \n",
       "323    10k-18k \n",
       "324    10k-15k \n",
       "325    12k-18k \n",
       "326    15k-25k \n",
       "327     7k-12k \n",
       "328    12k-20k \n",
       "329    10k-15k \n",
       "330    10k-20k \n",
       "331    15k-30k \n",
       "332    10k-18k \n",
       "333    30k-60k \n",
       "334    20k-40k \n",
       "335    10k-20k \n",
       "336    10k-20k \n",
       "337    12k-18k \n",
       "338     8k-11k \n",
       "339    25k-50k \n",
       "340    13k-26k \n",
       "341    10k-20k \n",
       "342      5k-8k \n",
       "343    26k-52k \n",
       "344      2k-3k \n",
       "345    10k-13k \n",
       "346    25k-40k \n",
       "347    15k-20k \n",
       "348      4k-8k \n",
       "349     8k-15k \n",
       "350    10k-15k \n",
       "351    10k-16k \n",
       "Name: salary, Length: 352, dtype: object"
      ]
     },
     "execution_count": 8,
     "metadata": {},
     "output_type": "execute_result"
    }
   ],
   "source": [
    "df.salary"
   ]
  },
  {
   "cell_type": "code",
   "execution_count": 9,
   "metadata": {},
   "outputs": [
    {
     "data": {
      "text/plain": [
       "352"
      ]
     },
     "execution_count": 9,
     "metadata": {},
     "output_type": "execute_result"
    }
   ],
   "source": [
    "len(df)"
   ]
  },
  {
   "cell_type": "code",
   "execution_count": 10,
   "metadata": {},
   "outputs": [
    {
     "data": {
      "text/plain": [
       "0    13k-20k \n",
       "1    10k-18k \n",
       "2     7k-14k \n",
       "3    10k-18k \n",
       "4     8k-15k \n",
       "Name: salary, dtype: object"
      ]
     },
     "execution_count": 10,
     "metadata": {},
     "output_type": "execute_result"
    }
   ],
   "source": [
    "df.salary.head(5)\n",
    "\n",
    "\n",
    "\n",
    "\n",
    "\n",
    "\n",
    "\n",
    "\n",
    "\n",
    "\n",
    "\n",
    "\n",
    "\n",
    "\n",
    "\n",
    "\n",
    "\n",
    "\n",
    "\n",
    "\n",
    "\n",
    "\n",
    "\n",
    "\n",
    "\n",
    "\n",
    "\n",
    "\n",
    "\n",
    "\n",
    "\n",
    "\n",
    "\n",
    "\n",
    "\n",
    "\n"
   ]
  },
  {
   "cell_type": "code",
   "execution_count": 13,
   "metadata": {},
   "outputs": [
    {
     "data": {
      "text/plain": [
       "352"
      ]
     },
     "execution_count": 13,
     "metadata": {},
     "output_type": "execute_result"
    }
   ],
   "source": [
    "df.education.count()\n"
   ]
  },
  {
   "cell_type": "code",
   "execution_count": 14,
   "metadata": {},
   "outputs": [
    {
     "data": {
      "text/plain": [
       "array(['本科及以上 ', '大专及以上 ', '学历不限 ', '硕士及以上 '], dtype=object)"
      ]
     },
     "execution_count": 14,
     "metadata": {},
     "output_type": "execute_result"
    }
   ],
   "source": [
    "df.education.unique()"
   ]
  },
  {
   "cell_type": "code",
   "execution_count": 16,
   "metadata": {},
   "outputs": [
    {
     "data": {
      "text/plain": [
       "本科及以上     261\n",
       "大专及以上      58\n",
       "学历不限       25\n",
       "硕士及以上       8\n",
       "Name: education, dtype: int64"
      ]
     },
     "execution_count": 16,
     "metadata": {},
     "output_type": "execute_result"
    }
   ],
   "source": [
    "df.education.value_counts()"
   ]
  },
  {
   "cell_type": "code",
   "execution_count": 17,
   "metadata": {},
   "outputs": [
    {
     "data": {
      "text/plain": [
       "Index(['job_id', 'company_id', 'company_name', 'position', 'salary',\n",
       "       'position_label', 'job_request', 'city', 'work_experience', 'education',\n",
       "       'full_or_part', 'job_advantage', 'job_description', 'work_add',\n",
       "       'review_anchor', 'day'],\n",
       "      dtype='object')"
      ]
     },
     "execution_count": 17,
     "metadata": {},
     "output_type": "execute_result"
    }
   ],
   "source": [
    "df.columns\n"
   ]
  },
  {
   "cell_type": "code",
   "execution_count": 18,
   "metadata": {},
   "outputs": [
    {
     "data": {
      "text/plain": [
       "10k-20k     51\n",
       "10k-15k     30\n",
       "15k-25k     27\n",
       "15k-30k     23\n",
       "8k-15k      22\n",
       "15k-20k     13\n",
       "10k-18k     13\n",
       "12k-20k     10\n",
       "20k-40k     10\n",
       "8k-12k       9\n",
       "8k-16k       9\n",
       "12k-18k      7\n",
       "5k-10k       6\n",
       "7k-12k       5\n",
       "7k-14k       5\n",
       "12k-24k      5\n",
       "4k-8k        5\n",
       "20k-35k      4\n",
       "6k-10k       4\n",
       "4k-6k        4\n",
       "6k-12k       4\n",
       "10K-20K      4\n",
       "2k-4k        3\n",
       "25k-50k      3\n",
       "13k-20k      3\n",
       "20k-25k      3\n",
       "12k-15k      3\n",
       "15k-18k      3\n",
       "10k-17k      3\n",
       "13k-16k      2\n",
       "            ..\n",
       "30k-60k      1\n",
       "12k-16k      1\n",
       "4k-5k        1\n",
       "15k-29k      1\n",
       "9k-15k       1\n",
       "5k-7k        1\n",
       "9k-12k       1\n",
       "5K-8K        1\n",
       "3k-6k        1\n",
       "18k-30k      1\n",
       "10k-13k      1\n",
       "10K-15K      1\n",
       "13k-22k      1\n",
       "2K-3K        1\n",
       "18k-35k      1\n",
       "26k-52k      1\n",
       "10k-19k      1\n",
       "13k-25k      1\n",
       "10k-14k      1\n",
       "20k-30k      1\n",
       "30k-50k      1\n",
       "18k-28k      1\n",
       "8k-11k       1\n",
       "11k-22k      1\n",
       "10k-16k      1\n",
       "13k-26k      1\n",
       "15K-20K      1\n",
       "3k-5k        1\n",
       "18k-36k      1\n",
       "7k-10k       1\n",
       "Name: salary, Length: 76, dtype: int64"
      ]
     },
     "execution_count": 18,
     "metadata": {},
     "output_type": "execute_result"
    }
   ],
   "source": [
    "df.salary.value_counts()"
   ]
  },
  {
   "cell_type": "code",
   "execution_count": null,
   "metadata": {},
   "outputs": [],
   "source": []
  }
 ],
 "metadata": {
  "kernelspec": {
   "display_name": "Python 3",
   "language": "python",
   "name": "python3"
  },
  "language_info": {
   "codemirror_mode": {
    "name": "ipython",
    "version": 3
   },
   "file_extension": ".py",
   "mimetype": "text/x-python",
   "name": "python",
   "nbconvert_exporter": "python",
   "pygments_lexer": "ipython3",
   "version": "3.7.0"
  }
 },
 "nbformat": 4,
 "nbformat_minor": 2
}
